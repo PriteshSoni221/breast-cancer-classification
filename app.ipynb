{
 "cells": [
  {
   "cell_type": "markdown",
   "metadata": {},
   "source": [
    "### Importing dependencies\n"
   ]
  },
  {
   "cell_type": "code",
   "execution_count": null,
   "metadata": {},
   "outputs": [],
   "source": [
    "import numpy as np\n",
    "import pandas as pd\n",
    "import matplotlib.pyplot as plt\n",
    "import sklearn.datasets\n",
    "from sklearn.model_selection import train_test_split\n",
    "from sklearn.preprocessing import StandardScaler"
   ]
  },
  {
   "cell_type": "markdown",
   "metadata": {},
   "source": [
    "### Device config\n"
   ]
  },
  {
   "cell_type": "code",
   "execution_count": null,
   "metadata": {},
   "outputs": [],
   "source": [
    "import torch\n",
    "import torch.nn as nn\n",
    "import torch.optim as optim\n",
    "\n",
    "\n",
    "device = torch.device(\"cuda\" if torch.cuda.is_available() else \"cpu\")\n",
    "\n",
    "\n",
    "print(\"Using device:\", device)"
   ]
  },
  {
   "cell_type": "markdown",
   "metadata": {},
   "source": [
    "### Data Collection and Analysis\n"
   ]
  },
  {
   "cell_type": "code",
   "execution_count": null,
   "metadata": {},
   "outputs": [],
   "source": [
    "breast_cancer_dataset = sklearn.datasets.load_breast_cancer()"
   ]
  },
  {
   "cell_type": "code",
   "execution_count": null,
   "metadata": {},
   "outputs": [],
   "source": [
    "print(breast_cancer_dataset)\n",
    "print(\"keys: \", breast_cancer_dataset.keys())"
   ]
  },
  {
   "cell_type": "code",
   "execution_count": null,
   "metadata": {},
   "outputs": [],
   "source": [
    "data_frame = pd.DataFrame(\n",
    "    breast_cancer_dataset['data'], columns=breast_cancer_dataset['feature_names'])"
   ]
  },
  {
   "cell_type": "code",
   "execution_count": null,
   "metadata": {},
   "outputs": [],
   "source": [
    "data_frame.head()"
   ]
  },
  {
   "cell_type": "code",
   "execution_count": null,
   "metadata": {},
   "outputs": [],
   "source": [
    "data_frame['target'] = breast_cancer_dataset['target']"
   ]
  },
  {
   "cell_type": "code",
   "execution_count": null,
   "metadata": {},
   "outputs": [],
   "source": [
    "data_frame.shape\n",
    "data_frame.info()"
   ]
  },
  {
   "cell_type": "code",
   "execution_count": null,
   "metadata": {},
   "outputs": [],
   "source": [
    "data_frame.describe()"
   ]
  },
  {
   "cell_type": "code",
   "execution_count": null,
   "metadata": {},
   "outputs": [],
   "source": [
    "data_frame['target'].value_counts()"
   ]
  },
  {
   "cell_type": "markdown",
   "metadata": {},
   "source": [
    "1 -> Benign \\\n",
    "0 -> Malignant"
   ]
  },
  {
   "cell_type": "markdown",
   "metadata": {},
   "source": [
    "### Splitting the data\n"
   ]
  },
  {
   "cell_type": "code",
   "execution_count": null,
   "metadata": {},
   "outputs": [],
   "source": [
    "X = data_frame.drop(labels='target', axis=1)\n",
    "y = data_frame['target'].values"
   ]
  },
  {
   "cell_type": "code",
   "execution_count": null,
   "metadata": {},
   "outputs": [],
   "source": [
    "X_train, X_test, y_train, y_test = train_test_split(\n",
    "    X, y, test_size=0.2, random_state=42, stratify=y)"
   ]
  },
  {
   "cell_type": "markdown",
   "metadata": {},
   "source": [
    "### Standardize the data\n"
   ]
  },
  {
   "cell_type": "code",
   "execution_count": null,
   "metadata": {},
   "outputs": [],
   "source": [
    "scaler = StandardScaler()\n",
    "X_train_scaled = scaler.fit_transform(X_train)\n",
    "X_test_scaled = scaler.transform(X_test)"
   ]
  },
  {
   "cell_type": "markdown",
   "metadata": {},
   "source": [
    "#### Distribution of the first feature and mean\n"
   ]
  },
  {
   "cell_type": "code",
   "execution_count": null,
   "metadata": {},
   "outputs": [],
   "source": [
    "feature_number = 0"
   ]
  },
  {
   "cell_type": "code",
   "execution_count": null,
   "metadata": {},
   "outputs": [],
   "source": [
    "# Plot a histogram of the first feature\n",
    "plt.hist(X_train[breast_cancer_dataset.feature_names[0]],\n",
    "         bins=20, color='blue', alpha=0.7)\n",
    "plt.title(\"Distribution of \" + breast_cancer_dataset.feature_names[0])\n",
    "plt.xlabel(breast_cancer_dataset.feature_names[0])\n",
    "plt.ylabel(\"Frequency\")\n",
    "plt.show()"
   ]
  },
  {
   "cell_type": "code",
   "execution_count": null,
   "metadata": {},
   "outputs": [],
   "source": [
    "print(\"mean of the first feature before scaling\",\n",
    "      X_train[breast_cancer_dataset.feature_names[0]].mean())"
   ]
  },
  {
   "cell_type": "code",
   "execution_count": null,
   "metadata": {},
   "outputs": [],
   "source": [
    "# Plot a histogram of the first feature\n",
    "data = []\n",
    "\n",
    "for i in range(0, len(X_train_scaled)):\n",
    "    data.append(X_train_scaled[i][feature_number])\n",
    "\n",
    "plt.hist(data, bins=20, color='blue', alpha=0.7)\n",
    "plt.title(\"Distribution of \" + breast_cancer_dataset.feature_names[0])\n",
    "plt.xlabel(breast_cancer_dataset.feature_names[0])\n",
    "plt.ylabel(\"Frequency\")\n",
    "plt.show()"
   ]
  },
  {
   "cell_type": "code",
   "execution_count": null,
   "metadata": {},
   "outputs": [],
   "source": [
    "print(\"mean of the first feature after scaling\",\n",
    "      X_train_scaled[feature_number].mean())"
   ]
  },
  {
   "cell_type": "markdown",
   "metadata": {},
   "source": [
    "### Converting the data to tensors\n"
   ]
  },
  {
   "cell_type": "code",
   "execution_count": null,
   "metadata": {},
   "outputs": [],
   "source": [
    "X_train_tensor = torch.tensor(\n",
    "    X_train_scaled, dtype=torch.float32).to(device=device)\n",
    "X_test_tensor = torch.tensor(\n",
    "    X_test_scaled, dtype=torch.float32).to(device=device)\n",
    "y_train_tensor = torch.tensor(y_train, dtype=torch.float32).to(device=device)\n",
    "y_test_tensor = torch.tensor(y_test, dtype=torch.float32).to(device=device)"
   ]
  },
  {
   "cell_type": "markdown",
   "metadata": {},
   "source": [
    "### Neural Network architecture\n"
   ]
  },
  {
   "cell_type": "code",
   "execution_count": null,
   "metadata": {},
   "outputs": [],
   "source": [
    "class NeuralNet(nn.Module):\n",
    "    def __init__(self, input_size, hidden_size, output_size):\n",
    "        super(NeuralNet, self).__init__()\n",
    "        self.fc1 = nn.Linear(input_size, hidden_size)\n",
    "        self.relu = nn.ReLU()\n",
    "        self.fc2 = nn.Linear(hidden_size, output_size)\n",
    "        self.sigmoid = nn.Sigmoid()\n",
    "\n",
    "    def forward(self, x):\n",
    "        out = self.fc1(x)\n",
    "        out = self.relu(out)\n",
    "        out = self.fc2(out)\n",
    "        out = self.sigmoid(out)\n",
    "        return out"
   ]
  },
  {
   "cell_type": "markdown",
   "metadata": {},
   "source": [
    "#### Hyperparameters\n"
   ]
  },
  {
   "cell_type": "code",
   "execution_count": null,
   "metadata": {},
   "outputs": [],
   "source": [
    "input_size = X_train.shape[1]\n",
    "hidden_size = 30\n",
    "output_size = 1\n",
    "learning_rate = 0.001\n",
    "num_of_epochs = 100"
   ]
  },
  {
   "cell_type": "code",
   "execution_count": null,
   "metadata": {},
   "outputs": [],
   "source": [
    "print(input_size)\n",
    "print(X_train_tensor.shape[1])"
   ]
  },
  {
   "cell_type": "markdown",
   "metadata": {},
   "source": [
    "#### Initialize the model\n"
   ]
  },
  {
   "cell_type": "code",
   "execution_count": null,
   "metadata": {},
   "outputs": [],
   "source": [
    "model = NeuralNet(input_size, hidden_size, output_size).to(device)"
   ]
  },
  {
   "cell_type": "markdown",
   "metadata": {},
   "source": [
    "#### Loss and optimizer\n"
   ]
  },
  {
   "cell_type": "code",
   "execution_count": null,
   "metadata": {},
   "outputs": [],
   "source": [
    "criterion = nn.BCELoss()  # BCE because of binary classification\n",
    "optimizer = optim.Adam(model.parameters(), lr=learning_rate)"
   ]
  },
  {
   "cell_type": "markdown",
   "metadata": {},
   "source": [
    "#### Training\n"
   ]
  },
  {
   "cell_type": "code",
   "execution_count": null,
   "metadata": {},
   "outputs": [],
   "source": [
    "for epoch in range(num_of_epochs):\n",
    "    model.train()\n",
    "    optimizer.zero_grad()\n",
    "    outputs = model.forward(X_train_tensor)\n",
    "\n",
    "    # applying view method to convert from 1D to 2D with 1 column and retaining the same num of rows using -1\n",
    "    loss = criterion(outputs, y_train_tensor.view(-1, 1))\n",
    "    loss.backward()\n",
    "    optimizer.step()\n",
    "\n",
    "    # Calculate accuracy\n",
    "    with torch.no_grad():\n",
    "        prediction = outputs.round()  # to convert to either 0 or 1\n",
    "        correct_prediction = (\n",
    "            prediction == y_train_tensor.view(-1, 1)).float().sum()\n",
    "        accuracy = correct_prediction / y_train_tensor.size(0)\n",
    "\n",
    "    if (epoch+1) % 10 == 0:\n",
    "        print(\n",
    "            f\"Epoch number: {epoch + 1}/{num_of_epochs}, Loss: {loss.item():.4f}, Accuracy: {accuracy.item() * 100:.2f}%\")"
   ]
  },
  {
   "cell_type": "markdown",
   "metadata": {},
   "source": [
    "### Model Evaluation"
   ]
  },
  {
   "cell_type": "code",
   "execution_count": null,
   "metadata": {},
   "outputs": [],
   "source": [
    "model.eval()\n",
    "with torch.no_grad():\n",
    "    outputs = model(X_train_tensor)\n",
    "    prediction = outputs.round()\n",
    "\n",
    "    correct_prediction = (\n",
    "        prediction == y_train_tensor.view(-1, 1)).float().sum()\n",
    "    accuracy = correct_prediction / y_train_tensor.size(0)\n",
    "    print(f\"Accuracy on training data: {accuracy.item() * 100:.2f}%\")\n",
    "\n",
    "    # True positives, false positives, false negatives for malignant (0)\n",
    "    TP = ((prediction == 0) & (y_train_tensor.view(-1, 1) == 0)).float().sum()\n",
    "    FP = ((prediction == 0) & (y_train_tensor.view(-1, 1) == 1)).float().sum()\n",
    "    FN = ((prediction == 1) & (y_train_tensor.view(-1, 1) == 0)).float().sum()\n",
    "\n",
    "    # Precision, Recall, and F1 Score for malignant class\n",
    "    precision = TP / (TP + FP + 1e-8)\n",
    "    recall = TP / (TP + FN + 1e-8)\n",
    "    f1_score = 2 * (precision * recall) / (precision + recall + 1e-8)\n",
    "\n",
    "    print(f\"Precision on training data: {precision * 100:.4f}%\")\n",
    "    print(f\"Recall on training data: {recall * 100:.4f}%\")\n",
    "    print(f\"F1 Score on training data: {f1_score.item() * 100:.4f}%\")\n"
   ]
  },
  {
   "cell_type": "code",
   "execution_count": null,
   "metadata": {},
   "outputs": [],
   "source": [
    "model.eval()\n",
    "with torch.no_grad():\n",
    "    outputs = model(X_test_tensor)\n",
    "    prediction = outputs.round()\n",
    "\n",
    "    correct_prediction = (\n",
    "        prediction == y_test_tensor.view(-1, 1)).float().sum()\n",
    "    accuracy = correct_prediction / y_test_tensor.size(0)\n",
    "    print(f\"Accuracy on test data: {accuracy.item() * 100:.2f}%\")\n",
    "\n",
    "    # True positives, false positives, false negatives for malignant (0)\n",
    "    TP = ((prediction == 0) & (y_test_tensor.view(-1, 1) == 0)).float().sum()\n",
    "    FP = ((prediction == 0) & (y_test_tensor.view(-1, 1) == 1)).float().sum()\n",
    "    FN = ((prediction == 1) & (y_test_tensor.view(-1, 1) == 0)).float().sum()\n",
    "\n",
    "    # Precision, Recall, and F1 Score for malignant class\n",
    "    precision = TP / (TP + FP + 1e-8)\n",
    "    recall = TP / (TP + FN + 1e-8)\n",
    "    f1_score = 2 * (precision * recall) / (precision + recall + 1e-8)\n",
    "\n",
    "    print(f\"Precision on training data: {precision * 100:.4f}%\")\n",
    "    print(f\"Recall on training data: {recall * 100:.4f}%\")\n",
    "    print(f\"F1 Score on training data: {f1_score.item() * 100:.4f}%\")"
   ]
  }
 ],
 "metadata": {
  "kernelspec": {
   "display_name": "Python 3",
   "language": "python",
   "name": "python3"
  },
  "language_info": {
   "codemirror_mode": {
    "name": "ipython",
    "version": 3
   },
   "file_extension": ".py",
   "mimetype": "text/x-python",
   "name": "python",
   "nbconvert_exporter": "python",
   "pygments_lexer": "ipython3",
   "version": "3.10.11"
  }
 },
 "nbformat": 4,
 "nbformat_minor": 2
}
